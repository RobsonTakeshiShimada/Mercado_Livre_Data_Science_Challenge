{
 "cells": [
  {
   "cell_type": "code",
   "execution_count": null,
   "id": "e1ae3b7f",
   "metadata": {},
   "outputs": [],
   "source": []
  }
 ],
 "metadata": {
  "language_info": {
   "name": "python"
  }
 },
 "nbformat": 4,
 "nbformat_minor": 5
}
